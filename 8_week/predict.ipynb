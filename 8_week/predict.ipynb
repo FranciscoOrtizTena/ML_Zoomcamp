{
 "cells": [
  {
   "cell_type": "markdown",
   "id": "b473ba50",
   "metadata": {},
   "source": [
    "# Predict importing the bentoml model"
   ]
  },
  {
   "cell_type": "markdown",
   "id": "b9be5622",
   "metadata": {},
   "source": [
    "First we need to load the bentoml library"
   ]
  },
  {
   "cell_type": "code",
   "execution_count": 1,
   "id": "b9af1b74",
   "metadata": {},
   "outputs": [],
   "source": [
    "import bentoml"
   ]
  },
  {
   "cell_type": "markdown",
   "id": "af28abd1",
   "metadata": {},
   "source": [
    "Since it's a XGBoost model you need to use the xgboost.get method to load the model into model_ref"
   ]
  },
  {
   "cell_type": "code",
   "execution_count": 2,
   "id": "21055791",
   "metadata": {},
   "outputs": [],
   "source": [
    "model_ref = bentoml.xgboost.get(\"maintenance_predict_model:asw4gns4q2vxgjv5\")"
   ]
  },
  {
   "cell_type": "markdown",
   "id": "01efa243",
   "metadata": {},
   "source": [
    "Remember to load the dictVectorizer to preprocess the data of the prediction"
   ]
  },
  {
   "cell_type": "code",
   "execution_count": 3,
   "id": "3623ac1e",
   "metadata": {},
   "outputs": [],
   "source": [
    "dv = model_ref.custom_objects[\"dictVectorizer\"]"
   ]
  },
  {
   "cell_type": "markdown",
   "id": "9f2196a5",
   "metadata": {},
   "source": [
    "You need to initalize the runner with the to.runner() and init_local() methodologies"
   ]
  },
  {
   "cell_type": "code",
   "execution_count": 4,
   "id": "50232c01",
   "metadata": {},
   "outputs": [
    {
     "name": "stderr",
     "output_type": "stream",
     "text": [
      "'Runner.init_local' is for debugging and testing only.\n"
     ]
    }
   ],
   "source": [
    "model_runner = model_ref.to_runner()\n",
    "model_runner.init_local()"
   ]
  },
  {
   "cell_type": "markdown",
   "id": "0d81e7dd",
   "metadata": {},
   "source": [
    "Lets type some features of a prediction"
   ]
  },
  {
   "cell_type": "code",
   "execution_count": 5,
   "id": "a798c08a",
   "metadata": {},
   "outputs": [],
   "source": [
    "test = {\"type\": \"L\",\n",
    "        \"air_temperature_[k]\": 298.0,\n",
    "        \"process_temperature_[k]\": 308.7,\n",
    "        \"rotational_speed_[rpm]\": 1268,\n",
    "        \"torque_[nm]\": 69.4,\n",
    "        \"tool_wear_[min]\": 189}"
   ]
  },
  {
   "cell_type": "markdown",
   "id": "de00d15e",
   "metadata": {},
   "source": [
    "Applying the dictVectorizer"
   ]
  },
  {
   "cell_type": "code",
   "execution_count": 6,
   "id": "b0be4246",
   "metadata": {},
   "outputs": [],
   "source": [
    "dtest = dv.transform(test)"
   ]
  },
  {
   "cell_type": "markdown",
   "id": "56ba9770",
   "metadata": {},
   "source": [
    "Making the prediction"
   ]
  },
  {
   "cell_type": "code",
   "execution_count": 7,
   "id": "1844548b",
   "metadata": {},
   "outputs": [],
   "source": [
    "prediction = model_runner.predict.run(dtest)"
   ]
  },
  {
   "cell_type": "code",
   "execution_count": 8,
   "id": "bcfe18e7",
   "metadata": {},
   "outputs": [
    {
     "name": "stdout",
     "output_type": "stream",
     "text": [
      "The probability that this machine will fail is:  98.68 %\n"
     ]
    }
   ],
   "source": [
    "print('The probability that this machine will fail is: ', round(prediction[0]*100, 2), '%')"
   ]
  },
  {
   "cell_type": "code",
   "execution_count": null,
   "id": "5a260d1f",
   "metadata": {},
   "outputs": [],
   "source": []
  }
 ],
 "metadata": {
  "kernelspec": {
   "display_name": "Python 3 (ipykernel)",
   "language": "python",
   "name": "python3"
  },
  "language_info": {
   "codemirror_mode": {
    "name": "ipython",
    "version": 3
   },
   "file_extension": ".py",
   "mimetype": "text/x-python",
   "name": "python",
   "nbconvert_exporter": "python",
   "pygments_lexer": "ipython3",
   "version": "3.9.12"
  }
 },
 "nbformat": 4,
 "nbformat_minor": 5
}
