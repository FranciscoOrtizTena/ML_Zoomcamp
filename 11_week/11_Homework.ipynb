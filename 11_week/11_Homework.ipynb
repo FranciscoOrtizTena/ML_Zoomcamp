{
 "cells": [
  {
   "cell_type": "markdown",
   "id": "8960d03b-0bec-4113-aab2-e5f09c158ef3",
   "metadata": {},
   "source": [
    "# Homework"
   ]
  },
  {
   "cell_type": "markdown",
   "id": "e1599bc2-8d6a-4b49-81ee-ab25f1e3f102",
   "metadata": {},
   "source": [
    "In this homework, we'll deploy Credit Card prediction model from the homework 5. We already have a docker image for this model - we'll use it for deploying the model to Kubernetes."
   ]
  },
  {
   "cell_type": "markdown",
   "id": "5c4dda66-e9c2-45a7-990d-4b620978f589",
   "metadata": {},
   "source": [
    "## Building the image"
   ]
  },
  {
   "cell_type": "markdown",
   "id": "d54c96b3-e7f9-4f61-b772-98ee3b528f78",
   "metadata": {},
   "source": [
    "Clone the course repo if you haven't:"
   ]
  },
  {
   "cell_type": "markdown",
   "id": "451274e9-0c35-409a-a0b9-3426d8384d6e",
   "metadata": {},
   "source": [
    "```\n",
    "git clone https://github.com/alexeygrigorev/mlbookcamp-code.git\n",
    "```"
   ]
  },
  {
   "cell_type": "markdown",
   "id": "c2a3bdd7-dcfc-4d1d-963b-450071bb850a",
   "metadata": {},
   "source": [
    "Go to the `course-zoomcamp/cohorts/2022/05-deployment/homework` folder and \n",
    "execute the following:"
   ]
  },
  {
   "cell_type": "markdown",
   "id": "a616741a-b245-48a1-a943-8f0ad282b0d8",
   "metadata": {},
   "source": [
    "## Question 1"
   ]
  },
  {
   "cell_type": "markdown",
   "id": "a0a88271-9782-4e5b-942d-265b78474aba",
   "metadata": {},
   "source": [
    "Run it to test that it's working locally"
   ]
  },
  {
   "cell_type": "markdown",
   "id": "6820c395-1b56-4dbf-a470-584402f42dc0",
   "metadata": {},
   "source": [
    "```bash\n",
    "docker run -it --rm -p 9696:9696 zoomcamp-model:v001\n",
    "```"
   ]
  },
  {
   "cell_type": "markdown",
   "id": "f036b1a2-d0cc-403f-bf86-ed49f2f5ed5c",
   "metadata": {},
   "source": [
    "And in another terminal, execute `q6_test.py` file:"
   ]
  },
  {
   "cell_type": "markdown",
   "id": "772c3d11-233e-4f83-96bf-151036ecdcc3",
   "metadata": {},
   "source": [
    "```bash\n",
    "python q6_test.py\n",
    "```"
   ]
  },
  {
   "cell_type": "markdown",
   "id": "08ff514d-77b0-4233-94b1-a789fa964cc9",
   "metadata": {},
   "source": [
    "I got"
   ]
  },
  {
   "cell_type": "markdown",
   "id": "6adf078d-21f6-4055-a502-706879c1c2b8",
   "metadata": {},
   "source": [
    "```\n",
    "{'get_card': True, 'get_card_probability': 0.7692649226628628}\n",
    "```"
   ]
  },
  {
   "cell_type": "markdown",
   "id": "b9b37c42-cf4c-49b7-bbcc-8cd1be825450",
   "metadata": {},
   "source": [
    "Now you can stop the container running in Docker "
   ]
  },
  {
   "cell_type": "markdown",
   "id": "28ca42e6-8143-4ff0-99f8-25c10da6e80d",
   "metadata": {},
   "source": [
    "## Question 2"
   ]
  },
  {
   "cell_type": "markdown",
   "id": "1634a1eb-435a-4ea3-8d6e-f4209f30f82d",
   "metadata": {},
   "source": [
    "What's the version of kind that you have?"
   ]
  },
  {
   "cell_type": "markdown",
   "id": "35a4f607-603e-41a1-8d35-01d2ed475dae",
   "metadata": {},
   "source": [
    "Use `kind --version` to find out."
   ]
  },
  {
   "cell_type": "markdown",
   "id": "b64d746d-4b80-459a-a29d-7868aeb36ce4",
   "metadata": {},
   "source": [
    "0.17.0"
   ]
  },
  {
   "cell_type": "markdown",
   "id": "465173f7-d30a-4ad0-aa38-32a7f8170b10",
   "metadata": {},
   "source": [
    "## Creating a cluster"
   ]
  },
  {
   "cell_type": "markdown",
   "id": "5f54cc26-6778-4bf5-ab76-d968242dab10",
   "metadata": {},
   "source": [
    "Now let's create a cluster with kind:"
   ]
  },
  {
   "cell_type": "markdown",
   "id": "9bf6e3bd-9dd7-4db4-853d-3dcd7fb96d00",
   "metadata": {},
   "source": [
    "```bash\n",
    "kind create cluster\n",
    "```"
   ]
  },
  {
   "cell_type": "markdown",
   "id": "d06f17ab-601f-47f8-a002-fc0d618dc13d",
   "metadata": {},
   "source": [
    "And check with kubetcl that it was successfully created:"
   ]
  },
  {
   "cell_type": "markdown",
   "id": "965ae606-0fc7-4d8d-b098-d87f0974bf35",
   "metadata": {},
   "source": [
    "```bash\n",
    "kubectl cluster-info\n",
    "```"
   ]
  },
  {
   "cell_type": "markdown",
   "id": "1371528d-94d1-4217-84a1-6595ba9b73e5",
   "metadata": {},
   "source": [
    "## Question 3"
   ]
  },
  {
   "cell_type": "markdown",
   "id": "058b149b-413f-44d9-9379-3e1fbb0e0f2c",
   "metadata": {},
   "source": [
    "What's the smallest deployable computing unit that we can create and manage in Kubernetes (`kind` in our case)?"
   ]
  },
  {
   "cell_type": "markdown",
   "id": "4d499c57-41e4-4eb4-bc42-553da42a6115",
   "metadata": {},
   "source": [
    "Pod"
   ]
  },
  {
   "cell_type": "markdown",
   "id": "7a23b250-8afd-4e8d-ae94-9a8ddcd2e6d2",
   "metadata": {},
   "source": [
    "## Question 4"
   ]
  },
  {
   "cell_type": "markdown",
   "id": "d135ce45-3a9a-4c12-9e12-20d34b14fd7e",
   "metadata": {},
   "source": [
    "Now let's test if everything works. Use `kubectl` to get the list of running services.\n",
    "\n",
    "What's the `Type`of the service that is already running there?"
   ]
  },
  {
   "cell_type": "markdown",
   "id": "a21fe753-158b-4495-812e-c99fd3a388b9",
   "metadata": {},
   "source": [
    "ClusterIP"
   ]
  },
  {
   "cell_type": "markdown",
   "id": "ef7a8fb8-2537-4ad5-800a-dfd63d80dbaf",
   "metadata": {},
   "source": [
    "## Question 5"
   ]
  },
  {
   "cell_type": "markdown",
   "id": "36fe4f5c-0b65-46f0-887d-b5eaa691d5f1",
   "metadata": {},
   "source": [
    "To be able to use the docker image we previously created (`zoomcamp-model:v001`), we need to register it with `kind`."
   ]
  },
  {
   "cell_type": "markdown",
   "id": "ee73ed9b-9bbf-41c9-9fc8-6eecd8061b1a",
   "metadata": {},
   "source": [
    "What's the command we need to run for that?"
   ]
  },
  {
   "cell_type": "markdown",
   "id": "92142e66-8a63-485e-9b39-de18ddb7a8fb",
   "metadata": {},
   "source": [
    "kind load docker-image"
   ]
  },
  {
   "cell_type": "markdown",
   "id": "62b78247-0b5f-43b2-8998-515ba60b00c7",
   "metadata": {},
   "source": [
    "## Question 6"
   ]
  },
  {
   "cell_type": "markdown",
   "id": "c00ee13f-0fdb-4e8a-a4ee-6658df76f59d",
   "metadata": {},
   "source": [
    "Now let's create a deployment cofig (e.g deployment.yaml)"
   ]
  },
  {
   "cell_type": "markdown",
   "id": "3a33f075-15ea-4bc6-b216-6a27e455a3e6",
   "metadata": {},
   "source": [
    "```yaml\n",
    "apiVersion: apps/v1\n",
    "kind: Deployment\n",
    "metadata:\n",
    "  name: credit-card\n",
    "spec:\n",
    "  selector:\n",
    "    matchLabels:\n",
    "      app: credit-card\n",
    "  replicas: 1\n",
    "  template:\n",
    "    metadata:\n",
    "      labels:\n",
    "        app: credit-card\n",
    "    spec:\n",
    "      containers:\n",
    "      - name: credit-card\n",
    "        image: <Image>\n",
    "        resources:\n",
    "          requests:\n",
    "            memory: \"64Mi\"\n",
    "            cpu: \"100m\"            \n",
    "          limits:\n",
    "            memory: <Memory>\n",
    "            cpu: <CPU>\n",
    "        ports:\n",
    "        - containerPort: <Port>\n",
    "```"
   ]
  },
  {
   "cell_type": "markdown",
   "id": "ab69a078-8b60-4237-af19-5dafb3482c46",
   "metadata": {},
   "source": [
    "Replace `<Image>`, `<Memory>`, `<CPU>`, `<Port>` with the correct values"
   ]
  },
  {
   "cell_type": "markdown",
   "id": "1fc9c881-4ed3-4b90-94e6-8d3d4f183985",
   "metadata": {},
   "source": [
    "What is the values for `<Port>`"
   ]
  },
  {
   "cell_type": "markdown",
   "id": "8ff644e0-5659-468e-9ee8-e2a3968488d6",
   "metadata": {},
   "source": [
    "9696"
   ]
  },
  {
   "cell_type": "markdown",
   "id": "b92f259e-c594-49db-9b83-4619a0062ad4",
   "metadata": {},
   "source": [
    "Apply whis deployment using the appropiate command and get a list of running Pods. You can see one running Pod."
   ]
  },
  {
   "cell_type": "markdown",
   "id": "1bbee8ae-db76-4e63-a5b0-e7bb0833f494",
   "metadata": {},
   "source": [
    "## Question 7"
   ]
  },
  {
   "cell_type": "markdown",
   "id": "e66f847c-34c9-46b1-b683-75b84cb9fd80",
   "metadata": {},
   "source": [
    "Let's create a service for this deployment (`service.yaml`):"
   ]
  },
  {
   "cell_type": "markdown",
   "id": "644b70da-07fc-497e-8d32-13cc412bd5c5",
   "metadata": {},
   "source": [
    "```yaml\n",
    "apiVersion: v1\n",
    "kind: Service\n",
    "metadata:\n",
    "  name: <Service name>\n",
    "spec:\n",
    "  type: LoadBalancer\n",
    "  selector:\n",
    "    app: <???>\n",
    "  ports:\n",
    "  - port: 80\n",
    "    targetPort: <PORT>\n",
    "```"
   ]
  },
  {
   "cell_type": "markdown",
   "id": "7100506a-506e-47ed-aec0-7036b9d54c74",
   "metadata": {},
   "source": [
    "Fill it in. What do we need to write instead of `<???>?"
   ]
  },
  {
   "cell_type": "markdown",
   "id": "1b7b741c-366e-44e3-83b1-f8e3913931b9",
   "metadata": {},
   "source": [
    "Apply this config file."
   ]
  },
  {
   "cell_type": "code",
   "execution_count": null,
   "id": "2afbba3d-f269-4369-9c0b-6427b512de9e",
   "metadata": {},
   "outputs": [],
   "source": []
  }
 ],
 "metadata": {
  "kernelspec": {
   "display_name": "Python 3",
   "language": "python",
   "name": "python3"
  },
  "language_info": {
   "codemirror_mode": {
    "name": "ipython",
    "version": 3
   },
   "file_extension": ".py",
   "mimetype": "text/x-python",
   "name": "python",
   "nbconvert_exporter": "python",
   "pygments_lexer": "ipython3",
   "version": "3.9.12"
  }
 },
 "nbformat": 4,
 "nbformat_minor": 5
}
