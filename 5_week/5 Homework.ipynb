{
 "cells": [
  {
   "cell_type": "markdown",
   "id": "fcbf1c86",
   "metadata": {},
   "source": [
    "# 5 Homework"
   ]
  },
  {
   "cell_type": "markdown",
   "id": "85fff85e",
   "metadata": {},
   "source": [
    "In this homework, we will use Credit Card Data from previous week"
   ]
  },
  {
   "cell_type": "markdown",
   "id": "e1ff16f7",
   "metadata": {},
   "source": [
    "## Question 1"
   ]
  },
  {
   "cell_type": "markdown",
   "id": "6d424c3f",
   "metadata": {},
   "source": [
    "- Install Pipenv pip install Pipenv\n",
    "- What's the version of pipenv you installed?\n",
    "- Use --version method to find out"
   ]
  },
  {
   "cell_type": "code",
   "execution_count": 1,
   "id": "e1a1a97a",
   "metadata": {},
   "outputs": [
    {
     "name": "stdout",
     "output_type": "stream",
     "text": [
      "Name: pipenv\r\n",
      "Version: 2022.10.4\r\n",
      "Summary: Python Development Workflow for Humans.\r\n",
      "Home-page: https://github.com/pypa/pipenv\r\n",
      "Author: Pipenv maintainer team\r\n",
      "Author-email: distutils-sig@python.org\r\n",
      "License: MIT\r\n",
      "Location: /Users/Frank/opt/anaconda3/lib/python3.9/site-packages\r\n",
      "Requires: setuptools, virtualenv-clone, virtualenv, certifi\r\n",
      "Required-by: \r\n"
     ]
    }
   ],
   "source": [
    "!pip3 show Pipenv"
   ]
  },
  {
   "cell_type": "markdown",
   "id": "cab40f45",
   "metadata": {},
   "source": [
    "## Question 2"
   ]
  },
  {
   "cell_type": "markdown",
   "id": "d528ca56",
   "metadata": {},
   "source": [
    "- Use pipenv to install Scikit-Learn version 1.0.2\n",
    "- What's the first hash for scikit-learn you get in Pipfile.lock?\n",
    "\n",
    "Note: You should create an empty folder for homework and do it there"
   ]
  },
  {
   "cell_type": "markdown",
   "id": "464bdf45",
   "metadata": {},
   "source": [
    "sha256:08ef968f6b72033c16c479c966bf37ccd49b06ea91b765e1cc27afefe723920b"
   ]
  },
  {
   "cell_type": "markdown",
   "id": "0b03006e",
   "metadata": {},
   "source": [
    "## Models"
   ]
  },
  {
   "cell_type": "markdown",
   "id": "752174eb",
   "metadata": {},
   "source": [
    "We've prepared a dictionary vectorizer and a model.\n",
    "\n",
    "They were trained (roughly) using this code:"
   ]
  },
  {
   "cell_type": "code",
   "execution_count": 2,
   "id": "8e0da49a",
   "metadata": {},
   "outputs": [
    {
     "data": {
      "text/plain": [
       "\"\\nfeatures = ['reports', 'share', 'expenditure', 'owner']\\ndicts = df[features].to_dict(orient='records')\\n\\ndv = DictVectorizer(sparse=False)\\nX = dv.fit_transform(dicts)\\n\\nmodel = LogisticRegression(solver='liblinear').fit(X, y)\\n\""
      ]
     },
     "execution_count": 2,
     "metadata": {},
     "output_type": "execute_result"
    }
   ],
   "source": [
    "\"\"\"\n",
    "features = ['reports', 'share', 'expenditure', 'owner']\n",
    "dicts = df[features].to_dict(orient='records')\n",
    "\n",
    "dv = DictVectorizer(sparse=False)\n",
    "X = dv.fit_transform(dicts)\n",
    "\n",
    "model = LogisticRegression(solver='liblinear').fit(X, y)\n",
    "\"\"\""
   ]
  },
  {
   "cell_type": "markdown",
   "id": "4634fc61",
   "metadata": {},
   "source": [
    "And then saved with Pickle with the following names"
   ]
  },
  {
   "cell_type": "code",
   "execution_count": 3,
   "id": "c389a5eb",
   "metadata": {},
   "outputs": [],
   "source": [
    "model_file = 'model1.bin'\n",
    "dv_file = 'dv.bin'"
   ]
  },
  {
   "cell_type": "markdown",
   "id": "a035003c",
   "metadata": {},
   "source": [
    "## Question 3"
   ]
  },
  {
   "cell_type": "markdown",
   "id": "5a3949b9",
   "metadata": {},
   "source": [
    "Let's use this models \n",
    "\n",
    "- Write a script for loading these models with pickle."
   ]
  },
  {
   "cell_type": "code",
   "execution_count": 4,
   "id": "e63a35e7",
   "metadata": {},
   "outputs": [],
   "source": [
    "import pickle\n",
    "\n",
    "with open(model_file, 'rb') as f_in:\n",
    "    model = pickle.load(f_in)\n",
    "    \n",
    "with open(dv_file, 'rb') as f_in:\n",
    "    dv = pickle.load(f_in)"
   ]
  },
  {
   "cell_type": "code",
   "execution_count": 5,
   "id": "e0f5de49",
   "metadata": {},
   "outputs": [
    {
     "data": {
      "text/plain": [
       "(DictVectorizer(sparse=False), LogisticRegression(solver='liblinear'))"
      ]
     },
     "execution_count": 5,
     "metadata": {},
     "output_type": "execute_result"
    }
   ],
   "source": [
    "dv, model"
   ]
  },
  {
   "cell_type": "markdown",
   "id": "084d0a1e",
   "metadata": {},
   "source": [
    "- Score this client:\n",
    "\n",
    "{\"reports\": 0, \"share\": 0.001694, \"expenditure\": 0.12, \"owner\": \"yes\"}"
   ]
  },
  {
   "cell_type": "code",
   "execution_count": 6,
   "id": "78328041",
   "metadata": {},
   "outputs": [],
   "source": [
    "client = {\"reports\": 0, \"share\": 0.001694, \"expenditure\": 0.12, \"owner\": \"yes\"}"
   ]
  },
  {
   "cell_type": "code",
   "execution_count": 7,
   "id": "1d88e376",
   "metadata": {},
   "outputs": [],
   "source": [
    "X = dv.transform(client)"
   ]
  },
  {
   "cell_type": "code",
   "execution_count": 8,
   "id": "1199cde7",
   "metadata": {},
   "outputs": [
    {
     "data": {
      "text/plain": [
       "0.16213414434326598"
      ]
     },
     "execution_count": 8,
     "metadata": {},
     "output_type": "execute_result"
    }
   ],
   "source": [
    "model.predict_proba(X)[0,1]"
   ]
  },
  {
   "cell_type": "markdown",
   "id": "4cb052ba",
   "metadata": {},
   "source": [
    "## Question 4 "
   ]
  },
  {
   "cell_type": "markdown",
   "id": "1145803c",
   "metadata": {},
   "source": [
    "Now let's serve this model as a web service\n",
    "\n",
    "- Install Flask and gunicorn.\n",
    "- Write Flask code for serving the model.\n",
    "- Now score this clients using requests.\n",
    "\n",
    "url = \"YOUR_URL\"\n",
    "\n",
    "client = {\"reports\": 0, \"share\": 0.245, \"expenditure\": 3.438, \"owner\": \"yes\"}\n",
    "\n",
    "requests.post(url, json=client).json()\n",
    "\n",
    "- What's the probability that this client will get a credit card?"
   ]
  },
  {
   "cell_type": "code",
   "execution_count": 9,
   "id": "8a125c49",
   "metadata": {},
   "outputs": [],
   "source": [
    "import requests"
   ]
  },
  {
   "cell_type": "code",
   "execution_count": 10,
   "id": "c6e504f9",
   "metadata": {},
   "outputs": [],
   "source": [
    "url = 'http://localhost:9696/predict'"
   ]
  },
  {
   "cell_type": "code",
   "execution_count": 17,
   "id": "e9234cc3",
   "metadata": {},
   "outputs": [],
   "source": [
    "client = {\"reports\": 0, \"share\": 0.245, \"expenditure\": 3.438, \"owner\": \"yes\"}"
   ]
  },
  {
   "cell_type": "code",
   "execution_count": 23,
   "id": "e73541b2",
   "metadata": {},
   "outputs": [
    {
     "data": {
      "text/plain": [
       "{'credit': True, 'credit proba': 0.9282218018527452}"
      ]
     },
     "execution_count": 23,
     "metadata": {},
     "output_type": "execute_result"
    }
   ],
   "source": [
    "response = requests.post(url, json=client).json()\n",
    "response = {'credit': True, 'credit proba': 0.9282218018527452}"
   ]
  },
  {
   "cell_type": "markdown",
   "id": "9915c4c5",
   "metadata": {},
   "source": [
    "## Docker"
   ]
  },
  {
   "cell_type": "markdown",
   "id": "511c2d1e",
   "metadata": {},
   "source": [
    "For the next two question you need to have Docker installed"
   ]
  },
  {
   "cell_type": "markdown",
   "id": "34177c3c",
   "metadata": {},
   "source": [
    "For these questions, we prepared a based image, svizor/zoomcamp-model:3.9.12-slim.\n",
    "\n",
    "This image is based on python:3.9.12-slim, and has a logistic regression model (a different one) as well a dictionary vectorizer inside.\n",
    "\n",
    "The image is already build it and then pushed it to svizor/zoomcamp-model:3.9.12-slim."
   ]
  },
  {
   "cell_type": "markdown",
   "id": "5806d6a3",
   "metadata": {},
   "source": [
    "## Question 5"
   ]
  },
  {
   "cell_type": "markdown",
   "id": "d49cd64a",
   "metadata": {},
   "source": [
    "Download the base image svizor/zoomcamp-model:3.9.12-slim. You can easily make it by using docker pull command."
   ]
  },
  {
   "cell_type": "markdown",
   "id": "703dfe45",
   "metadata": {},
   "source": [
    "So what's the size of this base image?"
   ]
  },
  {
   "cell_type": "markdown",
   "id": "67fb1b99",
   "metadata": {},
   "source": [
    "125 mb"
   ]
  },
  {
   "cell_type": "markdown",
   "id": "be515150",
   "metadata": {},
   "source": [
    "You can get this information when running docker images - it'll be in the \"SIZE\" column."
   ]
  },
  {
   "cell_type": "markdown",
   "id": "9a284cc4",
   "metadata": {},
   "source": [
    "## Dockerfile"
   ]
  },
  {
   "cell_type": "markdown",
   "id": "7bdce3c4",
   "metadata": {},
   "source": [
    "Now create your own Dockerfile based on the image we prepared"
   ]
  },
  {
   "cell_type": "markdown",
   "id": "170996aa",
   "metadata": {},
   "source": [
    "It should start like that:"
   ]
  },
  {
   "cell_type": "markdown",
   "id": "b9bdd1f3",
   "metadata": {},
   "source": [
    "FROM svizor/zoomcamp-model:3.9.12-slim\n",
    "\n",
    "#add your stuff here"
   ]
  },
  {
   "cell_type": "markdown",
   "id": "86fa3d24",
   "metadata": {},
   "source": [
    "Now complete it:\n",
    "\n",
    "- Install all the dependencies form the Pipenv file\n",
    "- Copy your Flask script\n",
    "- Run it with Gunicorn\n",
    "\n",
    "After that, you can build your docker image."
   ]
  },
  {
   "cell_type": "markdown",
   "id": "9e1aae7c",
   "metadata": {},
   "source": [
    "# Question 6"
   ]
  },
  {
   "cell_type": "markdown",
   "id": "52f4b33d",
   "metadata": {},
   "source": [
    "Let's run the docker container\n",
    "\n",
    "After running it, score this client\n",
    "\n",
    "{\"reports\": 0, \"share\": 0.245, \"expenditure\": 3.438, \"owner\": \"yes\"}"
   ]
  },
  {
   "cell_type": "code",
   "execution_count": 19,
   "id": "303d5e1d",
   "metadata": {},
   "outputs": [],
   "source": [
    "client_6 = {\"reports\": 0, \"share\": 0.245, \"expenditure\": 3.438, \"owner\": \"yes\"}"
   ]
  },
  {
   "cell_type": "code",
   "execution_count": 25,
   "id": "7fd7a604",
   "metadata": {},
   "outputs": [
    {
     "data": {
      "text/plain": [
       "{'churn': False, 'churn_probability': 0.4691351098060532}"
      ]
     },
     "execution_count": 25,
     "metadata": {},
     "output_type": "execute_result"
    }
   ],
   "source": [
    "response_6 = requests.post(url, json=client_6).json()\n",
    "response_6"
   ]
  },
  {
   "cell_type": "code",
   "execution_count": null,
   "id": "b798309d",
   "metadata": {},
   "outputs": [],
   "source": []
  }
 ],
 "metadata": {
  "kernelspec": {
   "display_name": "Python 3 (ipykernel)",
   "language": "python",
   "name": "python3"
  },
  "language_info": {
   "codemirror_mode": {
    "name": "ipython",
    "version": 3
   },
   "file_extension": ".py",
   "mimetype": "text/x-python",
   "name": "python",
   "nbconvert_exporter": "python",
   "pygments_lexer": "ipython3",
   "version": "3.9.12"
  }
 },
 "nbformat": 4,
 "nbformat_minor": 5
}
