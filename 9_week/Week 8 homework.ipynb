{
 "cells": [
  {
   "cell_type": "markdown",
   "id": "82e9df5b-1b8e-4cf4-bfb5-744c62ed80d2",
   "metadata": {},
   "source": [
    "# Week 8 Homework"
   ]
  },
  {
   "cell_type": "markdown",
   "id": "57bcb976-11db-44cc-a07e-f57cee7bcfb0",
   "metadata": {},
   "source": [
    "## Dataset"
   ]
  },
  {
   "cell_type": "markdown",
   "id": "0c577a86-dd1f-407e-9cb3-44a3851e6002",
   "metadata": {},
   "source": [
    "In this homework, we'll build a model for predicting if we have an image of a dino or a dragon. Fir this, we will use the \"Dino or Dragon?\" dataset that can be downloaded from [Kaggle](https://www.kaggle.com/datasets/agrigorev/dino-or-dragon)"
   ]
  },
  {
   "cell_type": "markdown",
   "id": "72239e33-6f57-459d-b4f1-e3d8c6ec0187",
   "metadata": {},
   "source": [
    "Once the data is downloag it can be found in the following path"
   ]
  },
  {
   "cell_type": "code",
   "execution_count": 1,
   "id": "fa4cb228-06f9-4523-a1f5-2daa300388a1",
   "metadata": {},
   "outputs": [],
   "source": [
    "path = './dino-dragon/train/'"
   ]
  },
  {
   "cell_type": "markdown",
   "id": "1ef15d75-0642-4e31-8646-4eee23ccfce2",
   "metadata": {},
   "source": [
    "## Load libraries"
   ]
  },
  {
   "cell_type": "markdown",
   "id": "95615dbb-209e-44e7-a944-db6dff3dbca1",
   "metadata": {},
   "source": [
    "Here i will load all the libraries that we need to do the homework"
   ]
  },
  {
   "cell_type": "code",
   "execution_count": 2,
   "id": "9940c415-8290-4160-b468-7705e5cc9586",
   "metadata": {},
   "outputs": [],
   "source": [
    "import numpy as np\n",
    "import matplotlib.pyplot as plt\n",
    "\n",
    "%matplotlib inline"
   ]
  },
  {
   "cell_type": "code",
   "execution_count": 3,
   "id": "0405fca4-f9cd-40b6-8b7d-32d78dfe9f4c",
   "metadata": {},
   "outputs": [],
   "source": [
    "import tensorflow as tf\n",
    "from tensorflow import keras\n",
    "from tensorflow.keras import layers\n",
    "from tensorflow.keras import models\n",
    "from tensorflow.keras import optimizers\n",
    "from tensorflow.keras.preprocessing.image import ImageDataGenerator"
   ]
  },
  {
   "cell_type": "markdown",
   "id": "aeebe905-c236-40e3-89ee-c1d68f7fa3e0",
   "metadata": {},
   "source": [
    "## Data prepration"
   ]
  },
  {
   "cell_type": "markdown",
   "id": "e4a76e46-d3c5-4f30-bb24-427841727358",
   "metadata": {},
   "source": [
    "The dataset contains around 1900 images of dinos and around 1900 images of dragons.\n",
    "\n",
    "The dataset contains separate folders for training and test sets."
   ]
  },
  {
   "cell_type": "code",
   "execution_count": 4,
   "id": "f5f9182c-cf0e-454c-92d5-dcd1d5f5f29e",
   "metadata": {},
   "outputs": [],
   "source": [
    "train_dir = './dino-dragon/train'\n",
    "test_dir = './dino-dragon/test'"
   ]
  },
  {
   "cell_type": "markdown",
   "id": "64082e7c-11e9-4bda-80b5-a64e1c8173a5",
   "metadata": {},
   "source": [
    "## Model"
   ]
  },
  {
   "cell_type": "markdown",
   "id": "e2d5e333-6775-4617-a79b-b6c5b60270ea",
   "metadata": {},
   "source": [
    "For this homework we will use a Convolutional Neural Network (CNN). Like in the lectures, we'll use Keras.\n",
    "\n",
    "You need to develop the model with the following structure:\n",
    "\n",
    "- The shape for input should be (150, 150, 3)\n",
    "- Next, create a convolutional layer (Conv2D):\n",
    " -- Use 32 filters.\n",
    " -- Kernel size should be (3, 3) (that's the size of the filter)\n",
    " -- Use 'relu' as activation\n",
    "- Reduce the size of the feature map with max pooling (MaxPooling2D)\n",
    " -- Set the pooling size to (2, 2)\n",
    "- Turn the multi-dimensional result into vectors using a Flatten layer.\n",
    "- Next, add a Dense layer with 64 neurons and 'relu' activation\n",
    "- Finally, create the Dense layer with 1 neuron - this will be the output.\n",
    " -- The output layer should have an activation use the appropiate activation for the binary classification case.\n",
    "\n",
    "As optimizer use SGD with the following parameters:\n",
    "- SGD(lr=0.002, momentum=0.8)"
   ]
  },
  {
   "cell_type": "code",
   "execution_count": 5,
   "id": "a539d105-4128-4d4c-8ecb-44683cd0075f",
   "metadata": {},
   "outputs": [],
   "source": [
    "model = models.Sequential()\n",
    "\n",
    "model.add(layers.Conv2D(32, (3, 3), activation='relu',\n",
    "                        input_shape=(150, 150, 3)))\n",
    "model.add(layers.MaxPooling2D((2, 2)))\n",
    "model.add(layers.Flatten())\n",
    "model.add(layers.Dense(64, activation='relu'))\n",
    "model.add(layers.Dense(1, activation='sigmoid'))"
   ]
  },
  {
   "cell_type": "code",
   "execution_count": 6,
   "id": "ffa12d7e-ca75-4bbd-a306-6f5d51ac801e",
   "metadata": {},
   "outputs": [],
   "source": [
    "model.compile(loss='binary_crossentropy',\n",
    "              optimizer=optimizers.SGD(learning_rate=0.002, momentum=0.8),\n",
    "              metrics=['acc'])"
   ]
  },
  {
   "cell_type": "markdown",
   "id": "7ea549ac-9f8e-4543-8b73-dc4a7aaf3025",
   "metadata": {},
   "source": [
    "## Question 1"
   ]
  },
  {
   "cell_type": "markdown",
   "id": "dee94d11-0739-4da4-8a97-9a62f7240ea0",
   "metadata": {},
   "source": [
    "Since we have a binary classification problem, what is the best loss function for us?"
   ]
  },
  {
   "cell_type": "markdown",
   "id": "88e0ac25-e9d5-4f99-b28e-5380b4af824f",
   "metadata": {},
   "source": [
    "- Since it is a binary classification problem we need to select a binary crossentropy as the loss function"
   ]
  },
  {
   "cell_type": "markdown",
   "id": "504a0419-94dd-440d-9828-6f8d2cce86b1",
   "metadata": {},
   "source": [
    "## Question 2"
   ]
  },
  {
   "cell_type": "markdown",
   "id": "5bc9d97a-8e66-4b37-b6a7-d29dccd5d977",
   "metadata": {},
   "source": [
    "What's the total number of parameters of the model? You can use the summary method for that"
   ]
  },
  {
   "cell_type": "code",
   "execution_count": 7,
   "id": "03f5b528-5c18-4da4-a5a3-f7c72e4f4a86",
   "metadata": {},
   "outputs": [
    {
     "name": "stdout",
     "output_type": "stream",
     "text": [
      "Model: \"sequential\"\n",
      "_________________________________________________________________\n",
      " Layer (type)                Output Shape              Param #   \n",
      "=================================================================\n",
      " conv2d (Conv2D)             (None, 148, 148, 32)      896       \n",
      "                                                                 \n",
      " max_pooling2d (MaxPooling2D  (None, 74, 74, 32)       0         \n",
      " )                                                               \n",
      "                                                                 \n",
      " flatten (Flatten)           (None, 175232)            0         \n",
      "                                                                 \n",
      " dense (Dense)               (None, 64)                11214912  \n",
      "                                                                 \n",
      " dense_1 (Dense)             (None, 1)                 65        \n",
      "                                                                 \n",
      "=================================================================\n",
      "Total params: 11,215,873\n",
      "Trainable params: 11,215,873\n",
      "Non-trainable params: 0\n",
      "_________________________________________________________________\n"
     ]
    }
   ],
   "source": [
    "model.summary()"
   ]
  },
  {
   "cell_type": "markdown",
   "id": "59f6b480-32cb-4c6f-9e4a-18b5fa81a1b0",
   "metadata": {},
   "source": [
    "11,215,873"
   ]
  },
  {
   "cell_type": "markdown",
   "id": "4fa0ae61-d817-4bc2-9ead-f028609aeced",
   "metadata": {},
   "source": [
    "## Generators and Training"
   ]
  },
  {
   "cell_type": "markdown",
   "id": "c07f9321-1ddc-4a18-a151-c4d27a2540bd",
   "metadata": {},
   "source": [
    "For the next questions, use the following data generator for both train and test sets:"
   ]
  },
  {
   "cell_type": "markdown",
   "id": "e9c8429e-747b-411b-beca-2b90caf4adcb",
   "metadata": {},
   "source": [
    "ImageDataGenerator(rescale=1./255"
   ]
  },
  {
   "cell_type": "code",
   "execution_count": 8,
   "id": "3006ed12-d973-4634-bd08-11c74ac76ded",
   "metadata": {},
   "outputs": [],
   "source": [
    "train_datagen = ImageDataGenerator(rescale=1./255)\n",
    "test_datagen = ImageDataGenerator(rescale=1./255)"
   ]
  },
  {
   "cell_type": "markdown",
   "id": "0e59ce35-298e-4070-8e47-3b780bbe6a9e",
   "metadata": {},
   "source": [
    "- We don't need to do any additional pre-processing for the images.\n",
    "- When reading the data from train/test directories, check the class_mode parameter. Which value should it be for a binary classification problem?\n",
    "- Use batch_size=20\n",
    "- Use shuffle=True for both training and test sets."
   ]
  },
  {
   "cell_type": "code",
   "execution_count": 9,
   "id": "0285c05c-0633-470d-aed4-a8b70626edd0",
   "metadata": {},
   "outputs": [
    {
     "name": "stdout",
     "output_type": "stream",
     "text": [
      "Found 1594 images belonging to 2 classes.\n"
     ]
    }
   ],
   "source": [
    "train_ds = train_datagen.flow_from_directory(train_dir,\n",
    "                                             target_size=(150, 150),\n",
    "                                             batch_size=20,\n",
    "                                             class_mode='binary')"
   ]
  },
  {
   "cell_type": "code",
   "execution_count": 10,
   "id": "f51d4454-0f1b-451f-bb5f-7c170d090c20",
   "metadata": {},
   "outputs": [
    {
     "name": "stdout",
     "output_type": "stream",
     "text": [
      "Found 394 images belonging to 2 classes.\n"
     ]
    }
   ],
   "source": [
    "test_ds = test_datagen.flow_from_directory(test_dir,\n",
    "                                           target_size=(150,150),\n",
    "                                            batch_size=20,\n",
    "                                            class_mode='binary')"
   ]
  },
  {
   "cell_type": "markdown",
   "id": "016a83e2-db35-4812-8208-6ce081321368",
   "metadata": {},
   "source": [
    "For training use .fit() with the following params:"
   ]
  },
  {
   "cell_type": "markdown",
   "id": "e657bee9-9c1c-4089-b84e-756d435ab247",
   "metadata": {},
   "source": [
    "model.fit(\n",
    "    train_generator,\n",
    "    epochs=10,\n",
    "    test_data=test_generator\n",
    ")"
   ]
  },
  {
   "cell_type": "code",
   "execution_count": 11,
   "id": "98599359-cc55-4819-ae3b-3000e2cfeb3f",
   "metadata": {},
   "outputs": [
    {
     "name": "stdout",
     "output_type": "stream",
     "text": [
      "Epoch 1/10\n",
      "80/80 [==============================] - 6s 71ms/step - loss: 0.6106 - acc: 0.6782 - val_loss: 0.5183 - val_acc: 0.7411\n",
      "Epoch 2/10\n",
      "80/80 [==============================] - 6s 69ms/step - loss: 0.4402 - acc: 0.8112 - val_loss: 0.4333 - val_acc: 0.7868\n",
      "Epoch 3/10\n",
      "80/80 [==============================] - 6s 71ms/step - loss: 0.3697 - acc: 0.8494 - val_loss: 0.4140 - val_acc: 0.8122\n",
      "Epoch 4/10\n",
      "80/80 [==============================] - 6s 73ms/step - loss: 0.3172 - acc: 0.8758 - val_loss: 0.3227 - val_acc: 0.8553\n",
      "Epoch 5/10\n",
      "80/80 [==============================] - 5s 68ms/step - loss: 0.2956 - acc: 0.8789 - val_loss: 0.3006 - val_acc: 0.8756\n",
      "Epoch 6/10\n",
      "80/80 [==============================] - 6s 70ms/step - loss: 0.2545 - acc: 0.9053 - val_loss: 0.3551 - val_acc: 0.8274\n",
      "Epoch 7/10\n",
      "80/80 [==============================] - 6s 70ms/step - loss: 0.2324 - acc: 0.9122 - val_loss: 0.2885 - val_acc: 0.8706\n",
      "Epoch 8/10\n",
      "80/80 [==============================] - 6s 72ms/step - loss: 0.2245 - acc: 0.9159 - val_loss: 0.2733 - val_acc: 0.8832\n",
      "Epoch 9/10\n",
      "80/80 [==============================] - 6s 71ms/step - loss: 0.1813 - acc: 0.9373 - val_loss: 0.2701 - val_acc: 0.8832\n",
      "Epoch 10/10\n",
      "80/80 [==============================] - 6s 73ms/step - loss: 0.1638 - acc: 0.9385 - val_loss: 0.2659 - val_acc: 0.8909\n"
     ]
    }
   ],
   "source": [
    "history = model.fit(\n",
    "    train_ds,\n",
    "    epochs=10,\n",
    "    validation_data=test_ds\n",
    ")"
   ]
  },
  {
   "cell_type": "markdown",
   "id": "99b27b16-1525-4ff9-80b3-b282e94d9053",
   "metadata": {},
   "source": [
    "## Question 3"
   ]
  },
  {
   "cell_type": "markdown",
   "id": "61b9b13c-4263-45a1-8171-2e43035c307e",
   "metadata": {},
   "source": [
    "What is the median of training accuracy for all the epochs for this model?"
   ]
  },
  {
   "cell_type": "code",
   "execution_count": 12,
   "id": "235ba362-77c9-411f-b285-6176eb7939eb",
   "metadata": {},
   "outputs": [
    {
     "data": {
      "image/png": "[encoded data removed]",
      "text/plain": [
       "<Figure size 432x288 with 1 Axes>"
      ]
     },
     "metadata": {
      "needs_background": "light"
     },
     "output_type": "display_data"
    },
    {
     "data": {
      "image/png": "[encoded data removed]",
      "text/plain": [
       "<Figure size 432x288 with 1 Axes>"
      ]
     },
     "metadata": {
      "needs_background": "light"
     },
     "output_type": "display_data"
    }
   ],
   "source": [
    "acc = history.history['acc']\n",
    "val_acc = history.history['val_acc']\n",
    "loss = history.history['loss']\n",
    "val_loss = history.history['val_loss']\n",
    "\n",
    "epochs = range(1, len(acc) + 1)\n",
    "\n",
    "plt.plot(epochs, acc, label='Train acc')\n",
    "plt.plot(epochs, val_acc, label='Val acc')\n",
    "plt.title('Train and val accuracy')\n",
    "plt.legend()\n",
    "\n",
    "plt.figure()\n",
    "\n",
    "plt.plot(epochs, loss, label='Train loss')\n",
    "plt.plot(epochs, val_loss, label='Val loss')\n",
    "plt.title('Train and Val Loss')\n",
    "plt.legend()\n",
    "\n",
    "plt.show()"
   ]
  },
  {
   "cell_type": "code",
   "execution_count": 13,
   "id": "df943329-888d-46a4-bca9-bef138318a91",
   "metadata": {},
   "outputs": [
    {
     "data": {
      "text/plain": [
       "0.8920953571796417"
      ]
     },
     "execution_count": 13,
     "metadata": {},
     "output_type": "execute_result"
    }
   ],
   "source": [
    "acc_median = np.median(acc)\n",
    "acc_median"
   ]
  },
  {
   "cell_type": "markdown",
   "id": "42aa0236-8e1e-47cf-99e4-33a28094627d",
   "metadata": {},
   "source": [
    "## Question 4"
   ]
  },
  {
   "cell_type": "markdown",
   "id": "d5480cdc-79c5-4fb9-aeba-6a6a6adc6a75",
   "metadata": {},
   "source": [
    "What is the standard deviation of training loss for all the epochs for this model?"
   ]
  },
  {
   "cell_type": "code",
   "execution_count": 14,
   "id": "88ead611-0055-40ea-947a-f11b4251bee9",
   "metadata": {},
   "outputs": [
    {
     "data": {
      "text/plain": [
       "0.12863841829818676"
      ]
     },
     "execution_count": 14,
     "metadata": {},
     "output_type": "execute_result"
    }
   ],
   "source": [
    "loss_std = np.std(loss)\n",
    "loss_std"
   ]
  },
  {
   "cell_type": "markdown",
   "id": "cb31c4cc-77aa-41ea-aa9c-f15e4928f132",
   "metadata": {},
   "source": [
    "## Data Augmentation"
   ]
  },
  {
   "cell_type": "markdown",
   "id": "35b3b742-c3b9-4098-b6e9-c4054e8cb025",
   "metadata": {},
   "source": [
    "For the next two questions, we'll generate more data using data augmentations:\n",
    "\n",
    "Add the following augmentations to your training data generator:\n",
    "- rotation_range=40,\n",
    "- width_shift_range=0.2,\n",
    "- height_shift_range=0.2,\n",
    "- shear_range=0.2,\n",
    "- zoom_range=0.2,\n",
    "- horizontal_flip=True,\n",
    "- fill_mode='nearest'"
   ]
  },
  {
   "cell_type": "code",
   "execution_count": 15,
   "id": "b70e4c33-a11a-46e5-8960-fab8410fd397",
   "metadata": {},
   "outputs": [],
   "source": [
    "train_datagen = ImageDataGenerator(\n",
    "    rescale=1./255,\n",
    "    rotation_range=40,\n",
    "    width_shift_range=0.2,\n",
    "    height_shift_range=0.2,\n",
    "    shear_range=0.2,\n",
    "    zoom_range=0.2,\n",
    "    horizontal_flip=True,\n",
    "    fill_mode='nearest')"
   ]
  },
  {
   "cell_type": "code",
   "execution_count": 16,
   "id": "a88b1182-382f-4a91-907b-7b1ce4100cb7",
   "metadata": {},
   "outputs": [],
   "source": [
    "test_datagen = ImageDataGenerator(rescale=1./255)"
   ]
  },
  {
   "cell_type": "code",
   "execution_count": 17,
   "id": "df702322-bd25-423b-baa6-f20fd1dd6f88",
   "metadata": {},
   "outputs": [
    {
     "name": "stdout",
     "output_type": "stream",
     "text": [
      "Found 1594 images belonging to 2 classes.\n"
     ]
    }
   ],
   "source": [
    "train_generator = train_datagen.flow_from_directory(train_dir,\n",
    "                                                    target_size=(150,150),\n",
    "                                                    batch_size=20,\n",
    "                                                    class_mode='binary')"
   ]
  },
  {
   "cell_type": "code",
   "execution_count": 18,
   "id": "28fb42db-610b-43d2-be85-ed2bd4b52f7d",
   "metadata": {},
   "outputs": [
    {
     "name": "stdout",
     "output_type": "stream",
     "text": [
      "Found 394 images belonging to 2 classes.\n"
     ]
    }
   ],
   "source": [
    "test_generator = test_datagen.flow_from_directory(test_dir,\n",
    "                                                  target_size=(150, 150),\n",
    "                                                  batch_size=20,\n",
    "                                                  class_mode='binary')"
   ]
  },
  {
   "cell_type": "markdown",
   "id": "f7fcec31-0653-4762-8aff-d5994811dd15",
   "metadata": {},
   "source": [
    "## Question 5"
   ]
  },
  {
   "cell_type": "markdown",
   "id": "00f30040-fe84-47b2-a6d3-62b36784edaf",
   "metadata": {},
   "source": [
    "Let's train our model for 10 more epochs using the same code as previously. Make sure you don't re-create the model - we want to continue training the model we already started training.\n",
    "\n",
    "What is the mean of the test loss for all the epochs for the model trained with augmentation?"
   ]
  },
  {
   "cell_type": "code",
   "execution_count": 19,
   "id": "79e104a8-b10b-44db-853b-fcf97133bc6d",
   "metadata": {},
   "outputs": [
    {
     "name": "stdout",
     "output_type": "stream",
     "text": [
      "Epoch 1/10\n",
      "80/80 [==============================] - 7s 92ms/step - loss: 0.4468 - acc: 0.7873 - val_loss: 0.3904 - val_acc: 0.8249\n",
      "Epoch 2/10\n",
      "80/80 [==============================] - 7s 91ms/step - loss: 0.4105 - acc: 0.8174 - val_loss: 0.3825 - val_acc: 0.8198\n",
      "Epoch 3/10\n",
      "80/80 [==============================] - 7s 93ms/step - loss: 0.4177 - acc: 0.8156 - val_loss: 0.3987 - val_acc: 0.8147\n",
      "Epoch 4/10\n",
      "80/80 [==============================] - 8s 98ms/step - loss: 0.4132 - acc: 0.8149 - val_loss: 0.3483 - val_acc: 0.8325\n",
      "Epoch 5/10\n",
      "80/80 [==============================] - 7s 92ms/step - loss: 0.3822 - acc: 0.8287 - val_loss: 0.6946 - val_acc: 0.6777\n",
      "Epoch 6/10\n",
      "80/80 [==============================] - 7s 90ms/step - loss: 0.3718 - acc: 0.8287 - val_loss: 0.5095 - val_acc: 0.7868\n",
      "Epoch 7/10\n",
      "80/80 [==============================] - 7s 90ms/step - loss: 0.3766 - acc: 0.8363 - val_loss: 0.4634 - val_acc: 0.7944\n",
      "Epoch 8/10\n",
      "80/80 [==============================] - 7s 90ms/step - loss: 0.3491 - acc: 0.8582 - val_loss: 0.6350 - val_acc: 0.7513\n",
      "Epoch 9/10\n",
      "80/80 [==============================] - 7s 91ms/step - loss: 0.3419 - acc: 0.8626 - val_loss: 0.6392 - val_acc: 0.7563\n",
      "Epoch 10/10\n",
      "80/80 [==============================] - 7s 90ms/step - loss: 0.3373 - acc: 0.8683 - val_loss: 0.6091 - val_acc: 0.7640\n"
     ]
    }
   ],
   "source": [
    "history = model.fit(\n",
    "    train_generator,\n",
    "    epochs=10,\n",
    "    validation_data= test_generator)"
   ]
  },
  {
   "cell_type": "code",
   "execution_count": 20,
   "id": "28ae0880-ca69-4426-bd6f-f53293739184",
   "metadata": {},
   "outputs": [
    {
     "data": {
      "image/png": "[encoded data removed]",
      "text/plain": [
       "<Figure size 432x288 with 1 Axes>"
      ]
     },
     "metadata": {
      "needs_background": "light"
     },
     "output_type": "display_data"
    },
    {
     "data": {
      "image/png": "[encoded data removed]",
      "text/plain": [
       "<Figure size 432x288 with 1 Axes>"
      ]
     },
     "metadata": {
      "needs_background": "light"
     },
     "output_type": "display_data"
    }
   ],
   "source": [
    "acc_aug = history.history['acc']\n",
    "val_acc_aug = history.history['val_acc']\n",
    "loss_aug = history.history['loss']\n",
    "val_loss_aug = history.history['val_loss']\n",
    "\n",
    "epochs_aug = range(1, len(acc) + 1)\n",
    "\n",
    "plt.plot(epochs_aug, acc_aug, label='Train acc')\n",
    "plt.plot(epochs_aug, val_acc_aug, label='Val acc')\n",
    "plt.title('Train and Val Accuracy')\n",
    "plt.legend()\n",
    "\n",
    "plt.figure()\n",
    "\n",
    "plt.plot(epochs_aug, loss_aug, label='Train loss')\n",
    "plt.plot(epochs_aug, val_loss_aug, label='Val loss')\n",
    "plt.title('Train and Val Loss')\n",
    "plt.legend()\n",
    "\n",
    "plt.show()"
   ]
  },
  {
   "cell_type": "code",
   "execution_count": 21,
   "id": "520f9bfd-73ed-4664-af7a-657946f3d239",
   "metadata": {},
   "outputs": [
    {
     "data": {
      "text/plain": [
       "0.5070655584335327"
      ]
     },
     "execution_count": 21,
     "metadata": {},
     "output_type": "execute_result"
    }
   ],
   "source": [
    "loss_mean_aug = np.mean(val_loss_aug)\n",
    "loss_mean_aug"
   ]
  },
  {
   "cell_type": "markdown",
   "id": "ebc11660-e64f-453b-aa9c-d853548e4a5d",
   "metadata": {},
   "source": [
    "## Question 6"
   ]
  },
  {
   "cell_type": "markdown",
   "id": "bfdcf33f-8689-4b39-930c-0378a6bfd229",
   "metadata": {},
   "source": [
    "What's the average of test accuracy for the last 5 epochs (from 6 to 10) for the model trained with augmentations?"
   ]
  },
  {
   "cell_type": "code",
   "execution_count": 22,
   "id": "4cc8052d-a7fb-47dd-bb08-7a68deeb4fa7",
   "metadata": {},
   "outputs": [
    {
     "data": {
      "text/plain": [
       "0.7705583572387695"
      ]
     },
     "execution_count": 22,
     "metadata": {},
     "output_type": "execute_result"
    }
   ],
   "source": [
    "acc_mean_aug = np.mean(val_acc_aug[5:10])\n",
    "acc_mean_aug"
   ]
  },
  {
   "cell_type": "code",
   "execution_count": null,
   "id": "38889b8d-d03f-4c82-91ff-493c762b8074",
   "metadata": {},
   "outputs": [],
   "source": []
  }
 ],
 "metadata": {
  "kernelspec": {
   "display_name": "Python 3",
   "language": "python",
   "name": "python3"
  },
  "language_info": {
   "codemirror_mode": {
    "name": "ipython",
    "version": 3
   },
   "file_extension": ".py",
   "mimetype": "text/x-python",
   "name": "python",
   "nbconvert_exporter": "python",
   "pygments_lexer": "ipython3",
   "version": "3.9.12"
  }
 },
 "nbformat": 4,
 "nbformat_minor": 5
}
