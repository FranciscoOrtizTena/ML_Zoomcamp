{
 "cells": [
  {
   "cell_type": "markdown",
   "id": "63f1d6f7",
   "metadata": {},
   "source": [
    "# Predict price importing the bentoml model"
   ]
  },
  {
   "cell_type": "markdown",
   "id": "8e1eef99",
   "metadata": {},
   "source": [
    "First we need to load the bentoml library"
   ]
  },
  {
   "cell_type": "code",
   "execution_count": 1,
   "id": "a6648874",
   "metadata": {},
   "outputs": [],
   "source": [
    "import bentoml"
   ]
  },
  {
   "cell_type": "markdown",
   "id": "cc7282d1",
   "metadata": {},
   "source": [
    "Since it's a Sklearn model you need to use the skleran.get method to load the model into model_ref"
   ]
  },
  {
   "cell_type": "code",
   "execution_count": 2,
   "id": "6c6d914c",
   "metadata": {},
   "outputs": [],
   "source": [
    "model_ref = bentoml.sklearn.get(\"flight_price_prediction:wqqm6cd7xcjtzzc6\")"
   ]
  },
  {
   "cell_type": "markdown",
   "id": "526c93f2",
   "metadata": {},
   "source": [
    "Remember to load the dictVectorizer to preprocess the data of the prediction"
   ]
  },
  {
   "cell_type": "code",
   "execution_count": 3,
   "id": "36d9ad20",
   "metadata": {},
   "outputs": [],
   "source": [
    "dv = model_ref.custom_objects[\"dictVectorizer\"]"
   ]
  },
  {
   "cell_type": "markdown",
   "id": "28b9479b",
   "metadata": {},
   "source": [
    "You need to initialize the runner with the to.runner() and init_local() methodologies"
   ]
  },
  {
   "cell_type": "code",
   "execution_count": 4,
   "id": "68ba4096",
   "metadata": {},
   "outputs": [
    {
     "name": "stderr",
     "output_type": "stream",
     "text": [
      "'Runner.init_local' is for debugging and testing only. Make sure to remove it before deploying to production.\n"
     ]
    }
   ],
   "source": [
    "model_runner = model_ref.to_runner()\n",
    "model_runner.init_local()"
   ]
  },
  {
   "cell_type": "markdown",
   "id": "373ff2e8",
   "metadata": {},
   "source": [
    "Let's type some features of a prediction"
   ]
  },
  {
   "cell_type": "code",
   "execution_count": 5,
   "id": "8ec6bba6",
   "metadata": {},
   "outputs": [],
   "source": [
    "price = {\"airline\": \"vistara\",\n",
    "         \"source_city\": \"delhi\",\n",
    "         \"departure_time\": \"early_morning\",\n",
    "         \"stops\": \"two_or_more\",\n",
    "         \"arrival_time\": \"evening\",\n",
    "         \"destination_city\": \"chennai\",\n",
    "         \"class\": \"economy\",\n",
    "         \"duration\": 12.42,\n",
    "         \"days_left\": 16}"
   ]
  },
  {
   "cell_type": "markdown",
   "id": "dbe028ab",
   "metadata": {},
   "source": [
    "Applying the dictVectorizer"
   ]
  },
  {
   "cell_type": "code",
   "execution_count": 6,
   "id": "0aa6e29e",
   "metadata": {},
   "outputs": [],
   "source": [
    "dtest = dv.transform(price)"
   ]
  },
  {
   "cell_type": "markdown",
   "id": "8a3c1223",
   "metadata": {},
   "source": [
    "Making the prediction"
   ]
  },
  {
   "cell_type": "code",
   "execution_count": 7,
   "id": "c2061e0e",
   "metadata": {},
   "outputs": [],
   "source": [
    "prediction = model_runner.predict.run(dtest)"
   ]
  },
  {
   "cell_type": "code",
   "execution_count": 8,
   "id": "f17a5792",
   "metadata": {},
   "outputs": [
    {
     "name": "stdout",
     "output_type": "stream",
     "text": [
      "The price of the flight will be:  10443.23\n"
     ]
    }
   ],
   "source": [
    "print('The price of the flight will be: ', round(prediction[0], 2))"
   ]
  },
  {
   "cell_type": "code",
   "execution_count": null,
   "id": "60d20fff",
   "metadata": {},
   "outputs": [],
   "source": []
  }
 ],
 "metadata": {
  "kernelspec": {
   "display_name": "Python 3 (ipykernel)",
   "language": "python",
   "name": "python3"
  },
  "language_info": {
   "codemirror_mode": {
    "name": "ipython",
    "version": 3
   },
   "file_extension": ".py",
   "mimetype": "text/x-python",
   "name": "python",
   "nbconvert_exporter": "python",
   "pygments_lexer": "ipython3",
   "version": "3.9.13"
  }
 },
 "nbformat": 4,
 "nbformat_minor": 5
}
