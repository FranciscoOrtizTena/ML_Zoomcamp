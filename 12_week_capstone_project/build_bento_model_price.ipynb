{
 "cells": [
  {
   "cell_type": "markdown",
   "id": "c823f9ee",
   "metadata": {},
   "source": [
    "# Build bento model flight prediction"
   ]
  },
  {
   "cell_type": "markdown",
   "id": "3093859f",
   "metadata": {},
   "source": [
    "The best model obtained in the notebook, which was the RandomForestRegressor model, will be build into a bento model, thats the reason if this notebook"
   ]
  },
  {
   "cell_type": "markdown",
   "id": "42f0d9ef",
   "metadata": {},
   "source": [
    "## Load libraries"
   ]
  },
  {
   "cell_type": "markdown",
   "id": "47272c4c",
   "metadata": {},
   "source": [
    "The following libraries are needed to create the bento model"
   ]
  },
  {
   "cell_type": "code",
   "execution_count": 1,
   "id": "44ce7d1a",
   "metadata": {},
   "outputs": [],
   "source": [
    "import numpy as np\n",
    "import pandas as pd\n",
    "\n",
    "from sklearn.model_selection import train_test_split\n",
    "from sklearn.feature_extraction import DictVectorizer\n",
    "\n",
    "from sklearn.ensemble import RandomForestRegressor\n",
    "\n",
    "import bentoml"
   ]
  },
  {
   "cell_type": "markdown",
   "id": "ec0f4a31",
   "metadata": {},
   "source": [
    "## Load the data"
   ]
  },
  {
   "cell_type": "markdown",
   "id": "c3cf6bed",
   "metadata": {},
   "source": [
    "First lets load the data into a pandas DataFrame"
   ]
  },
  {
   "cell_type": "code",
   "execution_count": 2,
   "id": "49376871",
   "metadata": {},
   "outputs": [],
   "source": [
    "data = 'https://raw.githubusercontent.com/FranciscoOrtizTena/ML_Zoomcamp/main/12_week_capstone_project/flight_price_prediction.csv'\n",
    "df = pd.read_csv(data).set_index('ID')"
   ]
  },
  {
   "cell_type": "markdown",
   "id": "7f9b324c",
   "metadata": {},
   "source": [
    "## Data preparation"
   ]
  },
  {
   "cell_type": "markdown",
   "id": "eadb8c06",
   "metadata": {},
   "source": [
    "Let's prepara the data as we did in the notebook file"
   ]
  },
  {
   "cell_type": "code",
   "execution_count": 3,
   "id": "234dd54a",
   "metadata": {},
   "outputs": [],
   "source": [
    "df = df.drop(['flight'], axis=1)\n",
    "categorical_columns = ['airline', 'source_city', 'departure_time',\n",
    "                       'stops', 'arrival_time', 'destination_city', 'class']\n",
    "for i in categorical_columns:\n",
    "    df[i] = df[i].str.lower()"
   ]
  },
  {
   "cell_type": "markdown",
   "id": "7bfb6e6c",
   "metadata": {},
   "source": [
    "Now let's split the data into the train and test sets"
   ]
  },
  {
   "cell_type": "code",
   "execution_count": 4,
   "id": "19bc90e1",
   "metadata": {},
   "outputs": [],
   "source": [
    "df_full_train, df_test = train_test_split(df, test_size=0.2, random_state=7)\n",
    "df_full_train = df_full_train.reset_index(drop=True)\n",
    "\n",
    "y_full_train = df_full_train.price.values\n",
    "\n",
    "del df_full_train['price']"
   ]
  },
  {
   "cell_type": "markdown",
   "id": "2319a580",
   "metadata": {},
   "source": [
    "Making the one-hot encode using DictVectorizer"
   ]
  },
  {
   "cell_type": "code",
   "execution_count": 5,
   "id": "66ea58fe",
   "metadata": {},
   "outputs": [],
   "source": [
    "dicts_full_train = df_full_train.to_dict(orient='records')\n",
    "\n",
    "dv = DictVectorizer(sparse=False)\n",
    "X_full_train = dv.fit_transform(dicts_full_train)"
   ]
  },
  {
   "cell_type": "markdown",
   "id": "bda00067",
   "metadata": {},
   "source": [
    "## Random Forest Regressor"
   ]
  },
  {
   "cell_type": "markdown",
   "id": "0c8aff9b",
   "metadata": {},
   "source": [
    "Now let's train the Random Forest Regressor"
   ]
  },
  {
   "cell_type": "code",
   "execution_count": 6,
   "id": "2cd9ab66",
   "metadata": {},
   "outputs": [
    {
     "data": {
      "text/plain": [
       "RandomForestRegressor(max_depth=25, min_samples_leaf=5, n_estimators=75,\n",
       "                      random_state=7)"
      ]
     },
     "execution_count": 6,
     "metadata": {},
     "output_type": "execute_result"
    }
   ],
   "source": [
    "model = RandomForestRegressor(n_estimators=75,\n",
    "                           max_depth=25,\n",
    "                           min_samples_leaf=5,\n",
    "                           random_state=7)\n",
    "model.fit(X_full_train, y_full_train)"
   ]
  },
  {
   "cell_type": "markdown",
   "id": "07cddbe8",
   "metadata": {},
   "source": [
    "## BentoML"
   ]
  },
  {
   "cell_type": "markdown",
   "id": "43ec56df",
   "metadata": {},
   "source": [
    "Finally let's save the model into the bentoml.yaml file"
   ]
  },
  {
   "cell_type": "code",
   "execution_count": 7,
   "id": "3a324cd8",
   "metadata": {},
   "outputs": [
    {
     "data": {
      "text/plain": [
       "Model(tag=\"flight_price_prediction:wqqm6cd7xcjtzzc6\", path=\"C:\\Users\\10714681\\bentoml\\models\\flight_price_prediction\\wqqm6cd7xcjtzzc6\\\")"
      ]
     },
     "execution_count": 7,
     "metadata": {},
     "output_type": "execute_result"
    }
   ],
   "source": [
    "bentoml.sklearn.save_model(\n",
    "    'flight_price_prediction',\n",
    "    model,\n",
    "    custom_objects={\n",
    "        'dictVectorizer': dv\n",
    "    }\n",
    ")"
   ]
  },
  {
   "cell_type": "markdown",
   "id": "15030965",
   "metadata": {},
   "source": [
    "## Test data"
   ]
  },
  {
   "cell_type": "markdown",
   "id": "41c111d9",
   "metadata": {},
   "source": [
    "Let's obtain the features for test a data"
   ]
  },
  {
   "cell_type": "code",
   "execution_count": 11,
   "id": "09b88a9c",
   "metadata": {
    "scrolled": true
   },
   "outputs": [
    {
     "data": {
      "text/plain": [
       "array(['vistara', 'delhi', 'early_morning', 'two_or_more', 'evening',\n",
       "       'chennai', 'economy', 12.42, 16], dtype=object)"
      ]
     },
     "execution_count": 11,
     "metadata": {},
     "output_type": "execute_result"
    }
   ],
   "source": [
    "np.array(df_test.iloc[0])[:-1]"
   ]
  },
  {
   "cell_type": "markdown",
   "id": "8f7bcfdf",
   "metadata": {},
   "source": [
    "Now the values for each feature"
   ]
  },
  {
   "cell_type": "code",
   "execution_count": 13,
   "id": "f88d8ef7",
   "metadata": {},
   "outputs": [
    {
     "data": {
      "text/plain": [
       "Index(['airline', 'source_city', 'departure_time', 'stops', 'arrival_time',\n",
       "       'destination_city', 'class', 'duration', 'days_left'],\n",
       "      dtype='object')"
      ]
     },
     "execution_count": 13,
     "metadata": {},
     "output_type": "execute_result"
    }
   ],
   "source": [
    "df_test.columns[:-1]"
   ]
  },
  {
   "cell_type": "markdown",
   "id": "90078e02",
   "metadata": {},
   "source": [
    "Let's create a dictionary of them"
   ]
  },
  {
   "cell_type": "code",
   "execution_count": 14,
   "id": "22c9e3bb",
   "metadata": {},
   "outputs": [
    {
     "data": {
      "text/plain": [
       "{'airline': 'vistara',\n",
       " 'source_city': 'delhi',\n",
       " 'departure_time': 'early_morning',\n",
       " 'stops': 'two_or_more',\n",
       " 'arrival_time': 'evening',\n",
       " 'destination_city': 'chennai',\n",
       " 'class': 'economy',\n",
       " 'duration': 12.42,\n",
       " 'days_left': 16}"
      ]
     },
     "execution_count": 14,
     "metadata": {},
     "output_type": "execute_result"
    }
   ],
   "source": [
    "dict(zip(df_test.columns[:-1], np.array(df_test.iloc[0])[:-1]))"
   ]
  },
  {
   "cell_type": "markdown",
   "id": "f1f1971b",
   "metadata": {},
   "source": [
    "Now pass the values into price"
   ]
  },
  {
   "cell_type": "code",
   "execution_count": 15,
   "id": "0337fbcf",
   "metadata": {},
   "outputs": [],
   "source": [
    "price = {\"airline\": \"vistara\",\n",
    "         \"source_city\": \"delhi\",\n",
    "         \"departure_time\": \"early_morning\",\n",
    "         \"stops\": \"two_or_more\",\n",
    "         \"arrival_time\": \"evening\",\n",
    "         \"destination_city\": \"chennai\",\n",
    "         \"class\": \"economy\",\n",
    "         \"duration\": 12.42,\n",
    "         \"days_left\": 16}"
   ]
  },
  {
   "cell_type": "markdown",
   "id": "fa107e9f",
   "metadata": {},
   "source": [
    "Finally let's predict the price"
   ]
  },
  {
   "cell_type": "code",
   "execution_count": 19,
   "id": "58998b1d",
   "metadata": {},
   "outputs": [
    {
     "data": {
      "text/plain": [
       "array([10443.22634515])"
      ]
     },
     "execution_count": 19,
     "metadata": {},
     "output_type": "execute_result"
    }
   ],
   "source": [
    "model.predict(dv.transform(price))"
   ]
  },
  {
   "cell_type": "markdown",
   "id": "578544bb",
   "metadata": {},
   "source": [
    "And the real price"
   ]
  },
  {
   "cell_type": "code",
   "execution_count": 21,
   "id": "8eae04d5",
   "metadata": {},
   "outputs": [
    {
     "data": {
      "text/html": [
       "<div>\n",
       "<style scoped>\n",
       "    .dataframe tbody tr th:only-of-type {\n",
       "        vertical-align: middle;\n",
       "    }\n",
       "\n",
       "    .dataframe tbody tr th {\n",
       "        vertical-align: top;\n",
       "    }\n",
       "\n",
       "    .dataframe thead th {\n",
       "        text-align: right;\n",
       "    }\n",
       "</style>\n",
       "<table border=\"1\" class=\"dataframe\">\n",
       "  <thead>\n",
       "    <tr style=\"text-align: right;\">\n",
       "      <th></th>\n",
       "      <th>airline</th>\n",
       "      <th>source_city</th>\n",
       "      <th>departure_time</th>\n",
       "      <th>stops</th>\n",
       "      <th>arrival_time</th>\n",
       "      <th>destination_city</th>\n",
       "      <th>class</th>\n",
       "      <th>duration</th>\n",
       "      <th>days_left</th>\n",
       "      <th>price</th>\n",
       "    </tr>\n",
       "    <tr>\n",
       "      <th>ID</th>\n",
       "      <th></th>\n",
       "      <th></th>\n",
       "      <th></th>\n",
       "      <th></th>\n",
       "      <th></th>\n",
       "      <th></th>\n",
       "      <th></th>\n",
       "      <th></th>\n",
       "      <th></th>\n",
       "      <th></th>\n",
       "    </tr>\n",
       "  </thead>\n",
       "  <tbody>\n",
       "    <tr>\n",
       "      <th>37442</th>\n",
       "      <td>vistara</td>\n",
       "      <td>delhi</td>\n",
       "      <td>early_morning</td>\n",
       "      <td>two_or_more</td>\n",
       "      <td>evening</td>\n",
       "      <td>chennai</td>\n",
       "      <td>economy</td>\n",
       "      <td>12.42</td>\n",
       "      <td>16</td>\n",
       "      <td>14293</td>\n",
       "    </tr>\n",
       "  </tbody>\n",
       "</table>\n",
       "</div>"
      ],
      "text/plain": [
       "       airline source_city departure_time        stops arrival_time  \\\n",
       "ID                                                                    \n",
       "37442  vistara       delhi  early_morning  two_or_more      evening   \n",
       "\n",
       "      destination_city    class  duration  days_left  price  \n",
       "ID                                                           \n",
       "37442          chennai  economy     12.42         16  14293  "
      ]
     },
     "execution_count": 21,
     "metadata": {},
     "output_type": "execute_result"
    }
   ],
   "source": [
    "df_test.iloc[[0]]"
   ]
  },
  {
   "cell_type": "code",
   "execution_count": null,
   "id": "72497d61",
   "metadata": {},
   "outputs": [],
   "source": []
  }
 ],
 "metadata": {
  "kernelspec": {
   "display_name": "Python 3 (ipykernel)",
   "language": "python",
   "name": "python3"
  },
  "language_info": {
   "codemirror_mode": {
    "name": "ipython",
    "version": 3
   },
   "file_extension": ".py",
   "mimetype": "text/x-python",
   "name": "python",
   "nbconvert_exporter": "python",
   "pygments_lexer": "ipython3",
   "version": "3.9.13"
  }
 },
 "nbformat": 4,
 "nbformat_minor": 5
}
