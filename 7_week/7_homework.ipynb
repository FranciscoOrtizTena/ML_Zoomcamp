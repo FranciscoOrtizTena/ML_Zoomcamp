{
 "cells": [
  {
   "cell_type": "markdown",
   "id": "692cc2c7",
   "metadata": {},
   "source": [
    "# Week 7 Homework"
   ]
  },
  {
   "cell_type": "markdown",
   "id": "49e69082",
   "metadata": {},
   "source": [
    "The goal of this homerowkr is to familiarize with BentoML and how to build and test an ML production service"
   ]
  },
  {
   "cell_type": "markdown",
   "id": "536f701b",
   "metadata": {},
   "source": [
    "## Background"
   ]
  },
  {
   "cell_type": "markdown",
   "id": "b1c7a640",
   "metadata": {},
   "source": [
    "You are a new recruit at ACME corp. Your manager is emailing you about your first assignment."
   ]
  },
  {
   "cell_type": "markdown",
   "id": "93323064",
   "metadata": {},
   "source": [
    "## Email from your manager"
   ]
  },
  {
   "cell_type": "markdown",
   "id": "33a414fe",
   "metadata": {},
   "source": [
    "Good morning recruit! It's good to have you here! I have an assignment for you. I have a data scientist that's built a credit risk model in a jupyter notebook. I need you to run the notebook and save the model with BentoML and see how big the model is. If it's greater than a certain size, I'm going to have to request additional resources from our infra team. Please let me know how big it is.\n",
    "\n",
    "Thanks.\n",
    "\n",
    "Mr McManager"
   ]
  },
  {
   "cell_type": "markdown",
   "id": "072d2829",
   "metadata": {},
   "source": [
    "## Question 1"
   ]
  },
  {
   "cell_type": "markdown",
   "id": "0608bc27",
   "metadata": {},
   "source": [
    "- Install BentoML\n",
    "- What's the version of BentoML you installed"
   ]
  },
  {
   "cell_type": "code",
   "execution_count": 1,
   "id": "663cb422",
   "metadata": {},
   "outputs": [
    {
     "name": "stdout",
     "output_type": "stream",
     "text": [
      "Name: bentoml\r\n",
      "Version: 1.0.7\r\n",
      "Summary: BentoML: The Unified Model Serving Framework\r\n",
      "Home-page: \r\n",
      "Author: \r\n",
      "Author-email: BentoML Team <contact@bentoml.com>\r\n",
      "License: Apache-2.0\r\n",
      "Location: /Users/Frank/opt/anaconda3/lib/python3.9/site-packages\r\n",
      "Requires: opentelemetry-semantic-conventions, prometheus-client, PyYAML, watchfiles, psutil, python-dateutil, packaging, Jinja2, simple-di, aiohttp, opentelemetry-instrumentation-asgi, cattrs, attrs, opentelemetry-api, opentelemetry-instrumentation, rich, cloudpickle, deepmerge, pip-tools, click, opentelemetry-util-http, opentelemetry-sdk, uvicorn, python-dotenv, schema, opentelemetry-instrumentation-aiohttp-client, circus, python-multipart, pynvml, pathspec, numpy, starlette, fs, requests\r\n",
      "Required-by: \r\n"
     ]
    }
   ],
   "source": [
    "!pip3 show bentoml"
   ]
  },
  {
   "cell_type": "markdown",
   "id": "ce66876e",
   "metadata": {},
   "source": [
    "## Question 2"
   ]
  },
  {
   "cell_type": "markdown",
   "id": "9baaecfd",
   "metadata": {},
   "source": [
    "Run the notebook which contains XGBoost model from module 6 i.e previous module and save the model with BentoML. "
   ]
  },
  {
   "cell_type": "code",
   "execution_count": 2,
   "id": "707a3b2b",
   "metadata": {},
   "outputs": [],
   "source": [
    "import pandas as pd\n",
    "import numpy as np\n",
    "\n",
    "from sklearn.model_selection import train_test_split\n",
    "from sklearn.feature_extraction import DictVectorizer\n",
    "\n",
    "import xgboost as xgb"
   ]
  },
  {
   "cell_type": "code",
   "execution_count": 3,
   "id": "a550669e",
   "metadata": {},
   "outputs": [],
   "source": [
    "df = pd.read_csv('CreditScoring.csv')"
   ]
  },
  {
   "cell_type": "code",
   "execution_count": 4,
   "id": "27cb418b",
   "metadata": {},
   "outputs": [],
   "source": [
    "df.columns = df.columns.str.lower()\n",
    "\n",
    "status_values = {\n",
    "    1: 'ok',\n",
    "    2: 'default',\n",
    "    0: 'unk'\n",
    "}\n",
    "\n",
    "df.status = df.status.map(status_values)\n",
    "\n",
    "home_values = {\n",
    "    1: 'rent',\n",
    "    2: 'owner',\n",
    "    3: 'private',\n",
    "    4: 'ignore',\n",
    "    5: 'parents',\n",
    "    6: 'other',\n",
    "    0: 'unk'\n",
    "}\n",
    "\n",
    "df.home = df.home.map(home_values)\n",
    "\n",
    "marital_values = {\n",
    "    1: 'single',\n",
    "    2: 'married',\n",
    "    3: 'widow',\n",
    "    4: 'separated',\n",
    "    5: 'divorced',\n",
    "    0: 'unk'\n",
    "}\n",
    "\n",
    "df.marital = df.marital.map(marital_values)\n",
    "\n",
    "records_values = {\n",
    "    1: 'no',\n",
    "    2: 'yes',\n",
    "    0: 'unk'\n",
    "}\n",
    "\n",
    "df.records = df.records.map(records_values)\n",
    "\n",
    "job_values = {\n",
    "    1: 'fixed',\n",
    "    2: 'partime',\n",
    "    3: 'freelance',\n",
    "    4: 'others',\n",
    "    0: 'unk'\n",
    "}\n",
    "\n",
    "df.job = df.job.map(job_values)\n",
    "\n",
    "for c in ['income', 'assets', 'debt']:\n",
    "    df[c] = df[c].replace(to_replace=99999999, value=np.nan)\n",
    "\n",
    "df = df[df.status != 'unk'].reset_index(drop=True)"
   ]
  },
  {
   "cell_type": "code",
   "execution_count": 5,
   "id": "f63bc24f",
   "metadata": {},
   "outputs": [],
   "source": [
    "df_train, df_test = train_test_split(df, test_size=0.2, random_state=11)\n",
    "\n",
    "df_train = df_train.reset_index(drop=True)\n",
    "df_test = df_test.reset_index(drop=True)\n",
    "\n",
    "y_train = (df_train.status == 'default').astype('int').values\n",
    "y_test = (df_test.status == 'default').astype('int').values\n",
    "\n",
    "del df_train['status']\n",
    "del df_test['status']"
   ]
  },
  {
   "cell_type": "code",
   "execution_count": 6,
   "id": "b1fcf39d",
   "metadata": {},
   "outputs": [],
   "source": [
    "dv = DictVectorizer(sparse=False)\n",
    "\n",
    "train_dicts = df_train.fillna(0).to_dict(orient='records')\n",
    "X_train = dv.fit_transform(train_dicts)\n",
    "\n",
    "test_dicts = df_test.fillna(0).to_dict(orient='records')\n",
    "X_test = dv.transform(test_dicts)"
   ]
  },
  {
   "cell_type": "markdown",
   "id": "329e6102",
   "metadata": {},
   "source": [
    "### XGBoost"
   ]
  },
  {
   "cell_type": "code",
   "execution_count": 7,
   "id": "016afc3f",
   "metadata": {},
   "outputs": [],
   "source": [
    "dtrain = xgb.DMatrix(X_train, label=y_train)"
   ]
  },
  {
   "cell_type": "code",
   "execution_count": 8,
   "id": "efbf3ca4",
   "metadata": {},
   "outputs": [],
   "source": [
    "xgb_params = {\n",
    "    'eta': 0.1, \n",
    "    'max_depth': 3,\n",
    "    'min_child_weight': 1,\n",
    "\n",
    "    'objective': 'binary:logistic',\n",
    "    'eval_metric': 'auc',\n",
    "\n",
    "    'nthread': 8,\n",
    "    'seed': 1,\n",
    "    'verbosity': 1,\n",
    "}\n",
    "\n",
    "model = xgb.train(xgb_params, dtrain, num_boost_round=175)"
   ]
  },
  {
   "cell_type": "markdown",
   "id": "0aef371b",
   "metadata": {},
   "source": [
    "### BentoML"
   ]
  },
  {
   "cell_type": "code",
   "execution_count": 9,
   "id": "0fe99ee8",
   "metadata": {},
   "outputs": [],
   "source": [
    "import bentoml"
   ]
  },
  {
   "cell_type": "code",
   "execution_count": 10,
   "id": "d1d5f6a6",
   "metadata": {},
   "outputs": [
    {
     "data": {
      "text/plain": [
       "Model(tag=\"credit_risk_model_homework:sowdigcrp2hncjv5\", path=\"/Users/Frank/bentoml/models/credit_risk_model_homework/sowdigcrp2hncjv5/\")"
      ]
     },
     "execution_count": 10,
     "metadata": {},
     "output_type": "execute_result"
    }
   ],
   "source": [
    "bentoml.xgboost.save_model(\n",
    "    'credit_risk_model_homework',\n",
    "    model,\n",
    "    custom_objects={\n",
    "        'dictVectorizer': dv\n",
    "    },\n",
    ")"
   ]
  },
  {
   "cell_type": "markdown",
   "id": "290a7f4f",
   "metadata": {},
   "source": [
    "How big approximately is the saved BentoML model? Size can slightly vary depending on your local development environment. Choose the size closest to your model"
   ]
  },
  {
   "cell_type": "markdown",
   "id": "e7e2996c",
   "metadata": {},
   "source": [
    "The size of the model is 197 kb"
   ]
  },
  {
   "cell_type": "markdown",
   "id": "3c2ad25a",
   "metadata": {},
   "source": [
    "### Another email from your manager"
   ]
  },
  {
   "cell_type": "markdown",
   "id": "752b2220",
   "metadata": {},
   "source": [
    "Great job recruit! Looks like I won't be having to go back to the procurement team. Thanks for the information.\n",
    "\n",
    "However, I just got word from one of the teams that's using one of our ML services and they're saying our service is \"broken\" and their trying to blame our model. I looked at the data their sending and it's completely bogus. I don't want them to send bad data to us and blame us for our models. Could you write a pydantic schema for the data that they should be sending? That way next time it will tell them it's their data that's bad and not our model.\n",
    "\n",
    "Thanks\n",
    "\n",
    "Mr McManager\n",
    "\n"
   ]
  },
  {
   "cell_type": "markdown",
   "id": "1c486ea2",
   "metadata": {},
   "source": [
    "## Question 3"
   ]
  },
  {
   "cell_type": "markdown",
   "id": "f4197466",
   "metadata": {},
   "source": [
    "Say you have the following data that you're sending to your service:\n",
    "\n",
    "{\n",
    "  \"name\": \"Tim\",\n",
    "  \"age\": 37,\n",
    "  \"country\": \"US\",\n",
    "  \"rating\": 3.14\n",
    "}\n",
    "\n"
   ]
  },
  {
   "cell_type": "markdown",
   "id": "72b6149f",
   "metadata": {},
   "source": [
    "What would the pydantic class look like? You can name the class UserProfile."
   ]
  },
  {
   "cell_type": "code",
   "execution_count": 11,
   "id": "63b02d6d",
   "metadata": {},
   "outputs": [],
   "source": [
    "from pydantic import BaseModel"
   ]
  },
  {
   "cell_type": "markdown",
   "id": "ff14b02e",
   "metadata": {},
   "source": [
    "### Email from your CEO"
   ]
  },
  {
   "cell_type": "markdown",
   "id": "9a217faf",
   "metadata": {},
   "source": [
    "Good morning! I hear you're the one to go to if I need something done well! We've got a new model that a big client needs deployed ASAP. I need you to build a service with it and test it against the old model and make sure that it performs better, otherwise we're going to lose this client. All our hopes are with you!\n",
    "\n"
   ]
  },
  {
   "cell_type": "markdown",
   "id": "c9a2defc",
   "metadata": {},
   "source": [
    "Good morning! I hear you're the one to go to if I need something done well! We've got a new model that a big client needs deployed ASAP. I need you to build a service with it and test it against the old model and make sure that it performs better, otherwise we're going to lose this client. All our hopes are with you!\n",
    "\n",
    "Thanks,\n",
    "\n",
    "CEO of Acme Corp"
   ]
  },
  {
   "cell_type": "markdown",
   "id": "dc85298b",
   "metadata": {},
   "source": [
    "## Question 4"
   ]
  },
  {
   "cell_type": "markdown",
   "id": "b03a0b70",
   "metadata": {},
   "source": [
    "We've prepared a model for you to that you can import using"
   ]
  },
  {
   "cell_type": "markdown",
   "id": "c04a95e5",
   "metadata": {},
   "source": [
    "What version of scikit-learn was this model trained with?"
   ]
  },
  {
   "cell_type": "markdown",
   "id": "a54648ae",
   "metadata": {},
   "source": [
    "In terminal use\n",
    "\n",
    "bentoml models get mlzoomcamp_homework:qtzdz3slg6mwwdu5"
   ]
  },
  {
   "cell_type": "markdown",
   "id": "d1779183",
   "metadata": {},
   "source": [
    " scikit-learn: 1.1.1 "
   ]
  },
  {
   "cell_type": "markdown",
   "id": "935dc45f",
   "metadata": {},
   "source": [
    "## Question 5"
   ]
  },
  {
   "cell_type": "markdown",
   "id": "4e26ff64",
   "metadata": {},
   "source": [
    "Create a bento out of this scikit-learn model. The output type for this endpoint should be NumpyNdarray()\n",
    "\n",
    "Send this array to the Bento:"
   ]
  },
  {
   "cell_type": "code",
   "execution_count": 14,
   "id": "1fadca61",
   "metadata": {},
   "outputs": [
    {
     "data": {
      "text/plain": [
       "[[6.4, 3.5, 4.5, 1.2]]"
      ]
     },
     "execution_count": 14,
     "metadata": {},
     "output_type": "execute_result"
    }
   ],
   "source": [
    "[[6.4,3.5,4.5,1.2]]"
   ]
  },
  {
   "cell_type": "markdown",
   "id": "4ec9e118",
   "metadata": {},
   "source": [
    "It returns 1"
   ]
  },
  {
   "cell_type": "markdown",
   "id": "44e66e4a",
   "metadata": {},
   "source": [
    "## Question 6"
   ]
  },
  {
   "cell_type": "markdown",
   "id": "c78fcd73",
   "metadata": {},
   "source": [
    "Ensure to serve your bento with --production for this question"
   ]
  },
  {
   "cell_type": "markdown",
   "id": "d028db92",
   "metadata": {},
   "source": [
    "Use the following locust file [locust.py](https://github.com/alexeygrigorev/mlbookcamp-code/blob/master/course-zoomcamp/cohorts/2022/07-bento-production/locustfile.py) file"
   ]
  },
  {
   "cell_type": "markdown",
   "id": "b3f8bafe",
   "metadata": {},
   "source": [
    "Ensure that it is pointed at your bento's endpoint (In case you did'nt name your endpoint \"classify\")"
   ]
  },
  {
   "cell_type": "markdown",
   "id": "d27c9ab0",
   "metadata": {},
   "source": [
    "Configure 100 users with ramp time of 10 users per second. Clicl \"Start Swarming\" and ensure that it is working"
   ]
  },
  {
   "cell_type": "markdown",
   "id": "eb718ac8",
   "metadata": {},
   "source": [
    "Now download a second model with this command:\n",
    "\n",
    "curl -O https://s3.us-west-2.amazonaws.com/bentoml.com/mlzoomcamp/coolmodel2.bentomodel"
   ]
  },
  {
   "cell_type": "markdown",
   "id": "143ac53b",
   "metadata": {},
   "source": [
    "Now import the model:\n",
    "\n",
    "bentoml models import coolmodel2.bentomodel"
   ]
  },
  {
   "cell_type": "markdown",
   "id": "6473d3d4",
   "metadata": {},
   "source": [
    "Update your bento's runner tag and test with both models. Which model allows more traffic (more throughput) as you ramp up the traffic?\n",
    "\n",
    "Hint 1: Remember to turn off and turn on your bento service between changing the model tag. Use Ctl-C to close the service in between trials.\n",
    "\n",
    "Hint 2: Increase the number of concurrent users to see which one has higher throughput"
   ]
  },
  {
   "cell_type": "markdown",
   "id": "6fd40b97",
   "metadata": {},
   "source": [
    "Which model has better performance at higher volumes?\n",
    "\n"
   ]
  },
  {
   "cell_type": "markdown",
   "id": "89320a25",
   "metadata": {},
   "source": [
    "The second one "
   ]
  },
  {
   "cell_type": "markdown",
   "id": "c6ac283a",
   "metadata": {},
   "source": [
    "## Email from marketing"
   ]
  },
  {
   "cell_type": "markdown",
   "id": "6c0f87b1",
   "metadata": {},
   "source": [
    "Hello ML person! I hope this email finds you well. I've heard there's this cool new ML model called Stable Diffusion. I hear if you give it a description of a picture it will generate an image. We need a new company logo and I want it to be fierce but also cool, think you could help out?\n",
    "\n",
    "Thanks,\n",
    "\n",
    "Mike Marketer"
   ]
  },
  {
   "cell_type": "markdown",
   "id": "8a2c7418",
   "metadata": {},
   "source": [
    "## Question 7"
   ]
  },
  {
   "cell_type": "markdown",
   "id": "0515837c",
   "metadata": {},
   "source": [
    "Go to this Bento deployment of [Stable Diffusion](http://54.176.205.174/):"
   ]
  },
  {
   "cell_type": "markdown",
   "id": "dac481a4",
   "metadata": {},
   "source": [
    "Use the txt2image endpoint and update the prompt to: \"A cartoon dragon with sunglasses\". Don't change the seed, it should be 0 by default\n",
    "\n",
    "What is the resulting image?"
   ]
  },
  {
   "cell_type": "markdown",
   "id": "35d0207f",
   "metadata": {},
   "source": [
    "Number 3"
   ]
  },
  {
   "cell_type": "code",
   "execution_count": null,
   "id": "878ecc60",
   "metadata": {},
   "outputs": [],
   "source": []
  }
 ],
 "metadata": {
  "kernelspec": {
   "display_name": "Python 3 (ipykernel)",
   "language": "python",
   "name": "python3"
  },
  "language_info": {
   "codemirror_mode": {
    "name": "ipython",
    "version": 3
   },
   "file_extension": ".py",
   "mimetype": "text/x-python",
   "name": "python",
   "nbconvert_exporter": "python",
   "pygments_lexer": "ipython3",
   "version": "3.9.12"
  }
 },
 "nbformat": 4,
 "nbformat_minor": 5
}
